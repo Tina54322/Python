{
 "cells": [
  {
   "cell_type": "code",
   "execution_count": 19,
   "id": "a9103c5e",
   "metadata": {},
   "outputs": [
    {
     "data": {
      "text/plain": [
       "128"
      ]
     },
     "execution_count": 19,
     "metadata": {},
     "output_type": "execute_result"
    }
   ],
   "source": [
    "import requests\n",
    "import numpy as np\n",
    "import pandas as pd\n",
    "\n",
    "r = requests.get('https://coderbyte.com/api/challenges/json/age-counting')\n",
    "# print(len(r.json()['data']))\n",
    "y = r.json()['data']\n",
    "y = y.split(', ')\n",
    "k = 0\n",
    "\n",
    "for i in range(1, len(y), 2): \n",
    "    age = int(y[i].split(\"=\")[1])\n",
    "    if age >= 50:\n",
    "        k += 1\n",
    "k"
   ]
  },
  {
   "cell_type": "code",
   "execution_count": 50,
   "id": "0ae7f0f6",
   "metadata": {},
   "outputs": [
    {
     "name": "stdout",
     "output_type": "stream",
     "text": [
      "128\n"
     ]
    }
   ],
   "source": [
    "df = pd.DataFrame(data=y)\n",
    "df2 = df.iloc[1::2]\n",
    "df2 = df2.reset_index(drop=True)\n",
    "df2.columns = ['age']\n",
    "df2.iloc[299, 0]\n",
    "for i in range(len(df2)):\n",
    "    df2.iloc[i, 0] = int(df2.iloc[i, 0].split(\"=\")[1])\n",
    "count = (df2[\"age\"] >= 50).sum()\n",
    "print(count)"
   ]
  }
 ],
 "metadata": {
  "kernelspec": {
   "display_name": "Python 3",
   "language": "python",
   "name": "python3"
  },
  "language_info": {
   "codemirror_mode": {
    "name": "ipython",
    "version": 3
   },
   "file_extension": ".py",
   "mimetype": "text/x-python",
   "name": "python",
   "nbconvert_exporter": "python",
   "pygments_lexer": "ipython3",
   "version": "3.10.18"
  }
 },
 "nbformat": 4,
 "nbformat_minor": 5
}
