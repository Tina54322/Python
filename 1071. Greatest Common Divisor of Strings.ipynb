{
 "cells": [
  {
   "cell_type": "code",
   "execution_count": 39,
   "metadata": {},
   "outputs": [
    {
     "data": {
      "text/plain": [
       "'CCBABA'"
      ]
     },
     "execution_count": 39,
     "metadata": {},
     "output_type": "execute_result"
    }
   ],
   "source": [
    "import math\n",
    "\n",
    "str1 = 'ABABCC'\n",
    "str2 = 'ABAB'\n",
    "len1 = len(str1)\n",
    "len2 = len(str2)\n",
    "gcd = math.gcd(len1,len2)\n",
    "''.join(reversed(str1))"
   ]
  },
  {
   "cell_type": "code",
   "execution_count": 5,
   "metadata": {},
   "outputs": [
    {
     "name": "stdout",
     "output_type": "stream",
     "text": [
      "A\n"
     ]
    }
   ],
   "source": [
    "import math\n",
    "\n",
    "class Solution:\n",
    "    def gcdOfStrings(self, str1: str, str2: str) -> str:\n",
    "        self.str1 = str1\n",
    "        self.str2 = str2\n",
    "        len1 = len(str1)\n",
    "        len2 = len(str2)\n",
    "        gcd = math.gcd(len1, len2)\n",
    "        if len1 >= len2:\n",
    "            if str1[0:len2] == str2:\n",
    "                output = str1[0:gcd]\n",
    "            else:\n",
    "                output = ' '\n",
    "        else:\n",
    "            if str2[0:len1] == str1:\n",
    "                output = str1[0:gcd]\n",
    "            else:\n",
    "                output = ' '      \n",
    "        print(output)\n",
    "\n",
    "p = Solution()\n",
    "p.gcdOfStrings('AB', 'ABC')"
   ]
  }
 ],
 "metadata": {
  "kernelspec": {
   "display_name": "Python 3",
   "language": "python",
   "name": "python3"
  },
  "language_info": {
   "codemirror_mode": {
    "name": "ipython",
    "version": 3
   },
   "file_extension": ".py",
   "mimetype": "text/x-python",
   "name": "python",
   "nbconvert_exporter": "python",
   "pygments_lexer": "ipython3",
   "version": "3.10.15"
  }
 },
 "nbformat": 4,
 "nbformat_minor": 2
}
