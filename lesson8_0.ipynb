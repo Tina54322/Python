{
 "cells": [
  {
   "cell_type": "code",
   "execution_count": 43,
   "metadata": {},
   "outputs": [
    {
     "name": "stdout",
     "output_type": "stream",
     "text": [
      "請輸入整數, 求所有因數:'jggvj' is not an integer.\n",
      "請輸入整數, 求所有因數:'nbnb' is not an integer.\n",
      "請輸入整數, 求所有因數:45\n",
      "45的因數是:\n",
      "1 3 5 9 15 45 "
     ]
    }
   ],
   "source": [
    "import pyinputplus as pyip\n",
    "\n",
    "n = pyip.inputInt('請輸入整數, 求所有因數:', min=1)\n",
    "print(n)\n",
    "print(f'{n}的因數是:')\n",
    "\n",
    "for i in range(1, n+1):\n",
    "    if n % i == 0:\n",
    "        print(i, end=' ')"
   ]
  },
  {
   "cell_type": "code",
   "execution_count": null,
   "metadata": {},
   "outputs": [
    {
     "name": "stdout",
     "output_type": "stream",
     "text": [
      "==========猜數字遊戲===========\n",
      "\n",
      "猜數字的範圍1~100:Blank values are not allowed.\n",
      "猜數字的範圍1~100:\n",
      "猜數字的範圍1~49:Number must be at maximum 49.\n",
      "猜數字的範圍1~49:\n",
      "猜數字的範圍1~48:Blank values are not allowed.\n",
      "猜數字的範圍1~48:\n",
      "猜數字的範圍1~47:\n",
      "猜數字的範圍2~47:Number must be at minimum 2.\n",
      "猜數字的範圍2~47:\n",
      "猜數字的範圍24~47:Blank values are not allowed.\n",
      "猜數字的範圍24~47:\n",
      "猜數字的範圍25~47:"
     ]
    }
   ],
   "source": [
    "import random\n",
    "import pyinputplus as pyip\n",
    "\n",
    "min = 1\n",
    "max = 100\n",
    "count = 0\n",
    "target = random.randint(min, max)\n",
    "print(\"==========猜數字遊戲===========\\n\")\n",
    "while True:\n",
    "    count += 1\n",
    "    keyin = pyip.inputInt(f\"猜數字的範圍{min}~{max}:\", min=min, max=max)\n",
    "    print()\n",
    "    if keyin == target:\n",
    "        print(f\"賓果!!您共猜了{count}次\", end= '\\n')\n",
    "        break \n",
    "    elif keyin < target:\n",
    "         min = keyin+1\n",
    "    elif keyin > target:\n",
    "         max = keyin-1"
   ]
  },
  {
   "cell_type": "code",
   "execution_count": null,
   "metadata": {},
   "outputs": [
    {
     "name": "stdout",
     "output_type": "stream",
     "text": [
      "==============猜數字遊戲==============\n",
      "try range 1~100\n",
      "try range 51~100\n",
      "try range 69~100\n",
      "Blank values are not allowed.\n",
      "try range 69~100\n",
      "try range 89~100\n",
      "try range 89~98\n",
      "try range 89~91\n",
      "try range 89~90\n",
      "try range 90~90\n",
      "Bingo!You win!You guess8times!\n"
     ]
    }
   ],
   "source": [
    "import random\n",
    "import pyinputplus as pyip\n",
    "\n",
    "min = 1\n",
    "max = 100\n",
    "count = 0\n",
    "target = random.randint(min,max)\n",
    "print('==============猜數字遊戲==============')\n",
    "\n",
    "while True:\n",
    "    guess = pyip.inputInt(f'try range {min}~{max}\\n',min = min, max = max)\n",
    "    count += 1\n",
    "    if guess == target:\n",
    "        print(f\"Bingo!You win!You guess {count} times!\")\n",
    "        break\n",
    "    elif guess > target:\n",
    "        max = guess-1\n",
    "    else:\n",
    "        min = guess+1"
   ]
  }
 ],
 "metadata": {
  "kernelspec": {
   "display_name": "Python 3",
   "language": "python",
   "name": "python3"
  },
  "language_info": {
   "codemirror_mode": {
    "name": "ipython",
    "version": 3
   },
   "file_extension": ".py",
   "mimetype": "text/x-python",
   "name": "python",
   "nbconvert_exporter": "python",
   "pygments_lexer": "ipython3",
   "version": "3.10.16"
  }
 },
 "nbformat": 4,
 "nbformat_minor": 2
}
