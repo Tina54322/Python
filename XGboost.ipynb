{
 "cells": [
  {
   "cell_type": "code",
   "execution_count": 16,
   "metadata": {},
   "outputs": [
    {
     "name": "stdout",
     "output_type": "stream",
     "text": [
      "❌ 讀取失敗！錯誤：[Errno 2] Unable to synchronously open file (unable to open file: name = 'C:\\temp\\1081001.mat', errno = 2, error message = 'No such file or directory', flags = 0, o_flags = 0)\n"
     ]
    }
   ],
   "source": [
    "import h5py\n",
    "\n",
    "file_path = r\"C:\\temp\\1081001.mat\"\n",
    "\n",
    "try:\n",
    "    with h5py.File(file_path, 'r') as f:\n",
    "        print(list(f.keys()))  # 列出變數名稱\n",
    "except Exception as e:\n",
    "    print(f\"❌ 讀取失敗！錯誤：{e}\")\n"
   ]
  },
  {
   "cell_type": "code",
   "execution_count": 1,
   "metadata": {},
   "outputs": [
    {
     "name": "stdout",
     "output_type": "stream",
     "text": [
      "❌ 讀取失敗！錯誤：[Errno 2] No such file or directory: 'C:\\\\Users\\\\a6101\\\\Documents\\\\1081001.mat'\n"
     ]
    }
   ],
   "source": [
    "import scipy.io\n",
    "\n",
    "file_path = r\"C:\\Users\\a6101\\Documents\\1081001.mat\"\n",
    "\n",
    "try:\n",
    "    mat_data = scipy.io.loadmat(file_path)\n",
    "    print(mat_data.keys())  # 顯示變數名稱\n",
    "except Exception as e:\n",
    "    print(f\"❌ 讀取失敗！錯誤：{e}\")\n"
   ]
  },
  {
   "cell_type": "code",
   "execution_count": null,
   "metadata": {},
   "outputs": [],
   "source": [
    "import pandas as pd\n",
    "\n",
    "# 讀取資料\n",
    "df = pd.read_csv(\"sum10gen.csv\")\n",
    "\n",
    "# 選出特徵與標籤欄位\n",
    "X = df[[\"P\", \"SFratio\", \"CoolerdT\"]]  # 你要用來預測的輸入變數\n",
    "y = df[\"Cost\"]             # 你想預測的目標（例如：成本）\n",
    "\n",
    "# 顯示前幾筆資料和欄位資訊\n",
    "#df.head() #df.info()\n",
    "df.head(), df.info()"
   ]
  },
  {
   "cell_type": "code",
   "execution_count": 19,
   "metadata": {},
   "outputs": [
    {
     "name": "stdout",
     "output_type": "stream",
     "text": [
      "RMSE: 69497.98729740758\n"
     ]
    }
   ],
   "source": [
    "import xgboost as xgb\n",
    "import pandas as pd\n",
    "from sklearn.model_selection import train_test_split\n",
    "from sklearn.metrics import mean_squared_error\n",
    "import numpy as np\n",
    "\n",
    "# 讀取數據\n",
    "df = pd.read_csv(\"sum10gen.csv\")\n",
    "df = df.dropna()\n",
    "# np.isinf(data.Cost)\n",
    "\n",
    "# 選取特徵X及標籤y欄位\n",
    "X = df[[\"P\", \"SFratio\", \"CoolerdT\"]]  # 你要用來預測的輸入變數\n",
    "y = df[\"Cost\"]             # 你想預測的目標（例如：成本）\n",
    "\n",
    "# 切分訓練和測試數據\n",
    "X_train, X_test, y_train, y_test = train_test_split(X, y, test_size=0.2, random_state=42)\n",
    "\n",
    "# 轉換數據格式為DMatrix\n",
    "train_dmatrix = xgb.DMatrix(data=X_train, label=y_train)\n",
    "test_dmatrix = xgb.DMatrix(data=X_test, label=y_test)\n",
    "\n",
    "# 設置參數\n",
    "params = {\n",
    "    'objective': 'reg:squarederror',\n",
    "    'colsample_bytree': 0.3,\n",
    "    'learning_rate': 0.1,\n",
    "    'max_depth': 5,\n",
    "    'alpha': 10\n",
    "}\n",
    "\n",
    "# 訓練模型\n",
    "xg_reg = xgb.train(params=params, dtrain=train_dmatrix, num_boost_round=100)\n",
    "\n",
    "# 預測\n",
    "preds = xg_reg.predict(test_dmatrix)\n",
    "\n",
    "# 計算均方誤差\n",
    "rmse = np.sqrt(mean_squared_error(y_test, preds))\n",
    "print(f\"RMSE: {rmse}\")"
   ]
  },
  {
   "cell_type": "code",
   "execution_count": 20,
   "metadata": {},
   "outputs": [
    {
     "data": {
      "image/png": "[encoded data removed]",
      "text/plain": [
       "<Figure size 640x480 with 1 Axes>"
      ]
     },
     "metadata": {},
     "output_type": "display_data"
    }
   ],
   "source": [
    "import matplotlib.pyplot as plt\n",
    "plt.scatter(y_test, preds)\n",
    "plt.xlabel(\"True Cost\")\n",
    "plt.ylabel(\"Predicted Cost\")\n",
    "plt.title(\"True vs Predicted Cost\")\n",
    "plt.grid()\n",
    "plt.show()\n"
   ]
  },
  {
   "cell_type": "code",
   "execution_count": 18,
   "metadata": {},
   "outputs": [
    {
     "data": {
      "text/plain": [
       "np.int64(400)"
      ]
     },
     "execution_count": 18,
     "metadata": {},
     "output_type": "execute_result"
    }
   ],
   "source": [
    "import pandas as pd\n",
    "\n",
    "mydict = [{'a': 1, 'b': 2, 'c': 3, 'd': 4},\n",
    "          {'a': 100, 'b': 200, 'c': 300, 'd': 400},\n",
    "          {'a': 1000, 'b': 2000, 'c': 3000, 'd': 4000}]\n",
    "# type(mydict)\n",
    "df = pd.DataFrame(mydict)  #(多行標註-->ctrl+/)\n",
    "df.iloc[1,3]"
   ]
  },
  {
   "cell_type": "code",
   "execution_count": 8,
   "metadata": {},
   "outputs": [
    {
     "data": {
      "text/plain": [
       "0    4\n",
       "1    7\n",
       "2   -5\n",
       "3    3\n",
       "dtype: int64"
      ]
     },
     "execution_count": 8,
     "metadata": {},
     "output_type": "execute_result"
    }
   ],
   "source": [
    "pd.Series([4, 7, -5, 3])"
   ]
  }
 ],
 "metadata": {
  "kernelspec": {
   "display_name": "Python 3",
   "language": "python",
   "name": "python3"
  },
  "language_info": {
   "codemirror_mode": {
    "name": "ipython",
    "version": 3
   },
   "file_extension": ".py",
   "mimetype": "text/x-python",
   "name": "python",
   "nbconvert_exporter": "python",
   "pygments_lexer": "ipython3",
   "version": "3.10.16"
  }
 },
 "nbformat": 4,
 "nbformat_minor": 2
}
